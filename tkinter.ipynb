{
 "cells": [
  {
   "cell_type": "code",
   "execution_count": 1,
   "metadata": {
    "collapsed": true
   },
   "outputs": [],
   "source": [
    "import tkinter as tk"
   ]
  },
  {
   "cell_type": "code",
   "execution_count": 4,
   "metadata": {
    "collapsed": false
   },
   "outputs": [],
   "source": [
    "#button \n",
    "window = tk.Tk()\n",
    "window.title(\"my window\")\n",
    "window.geometry(\"200x100\")\n",
    "var = tk.StringVar()\n",
    "l = tk.Label(window,textvariable=var,bg='blue',font=('Arial',12),width=15,height=2)\n",
    "l.pack()\n",
    "on_hit = False\n",
    "def hit_me():\n",
    "    global on_hit\n",
    "    if on_hit == False:\n",
    "        on_hit=True\n",
    "        var.set('you hit me')\n",
    "    else:\n",
    "        on_hit=False\n",
    "        var.set('')\n",
    "    \n",
    "b = tk.Button(window,text=\"hit me\",width=15,height=2,command=hit_me)\n",
    "b.pack()\n",
    "window.mainloop()"
   ]
  },
  {
   "cell_type": "code",
   "execution_count": 6,
   "metadata": {
    "collapsed": false
   },
   "outputs": [],
   "source": [
    "window = tk.Tk()\n",
    "window.title(\"my window\")\n",
    "window.geometry(\"200x200\")\n",
    "var = tk.StringVar()\n",
    "e = tk.Entry(window,show='*')\n",
    "e.pack()\n",
    "def insert_point():\n",
    "    var = e.get()\n",
    "    # 'insert' 從鼠標插入 \n",
    "    t.insert('insert',var)\n",
    "def insert_end():\n",
    "    var = e.get()\n",
    "    # 'end' 從最後插入 ，也可用1.1表示第一列第一行\n",
    "    t.insert('end',var)\n",
    "b1 = tk.Button(window,text=\"insert point\",width=15,height=2,command=insert_point)\n",
    "b1.pack()\n",
    "b2 = tk.Button(window,text=\"insert end\",command=insert_end)\n",
    "b2.pack()\n",
    "\n",
    "t = tk.Text(window,height=2)\n",
    "t.pack()\n",
    "window.mainloop()"
   ]
  }
 ],
 "metadata": {
  "anaconda-cloud": {},
  "kernelspec": {
   "display_name": "Python [conda root]",
   "language": "python",
   "name": "conda-root-py"
  },
  "language_info": {
   "codemirror_mode": {
    "name": "ipython",
    "version": 3
   },
   "file_extension": ".py",
   "mimetype": "text/x-python",
   "name": "python",
   "nbconvert_exporter": "python",
   "pygments_lexer": "ipython3",
   "version": "3.5.2"
  }
 },
 "nbformat": 4,
 "nbformat_minor": 1
}
