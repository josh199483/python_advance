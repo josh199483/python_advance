{
 "cells": [
  {
   "cell_type": "code",
   "execution_count": null,
   "metadata": {
    "collapsed": true
   },
   "outputs": [],
   "source": [
    "import threading    \n",
    "from multiprocessing import Queue"
   ]
  },
  {
   "cell_type": "code",
   "execution_count": 2,
   "metadata": {
    "collapsed": true
   },
   "outputs": [],
   "source": [
    "def job1(num, q, lock): \n",
    "\n",
    "    lock.acquire()    \n",
    "    sum = 0           \n",
    "    for i in range(num):\n",
    "        sum += i\n",
    "\n",
    "    q.put(sum) \n",
    "    lock.release()"
   ]
  },
  {
   "cell_type": "code",
   "execution_count": 3,
   "metadata": {
    "collapsed": true
   },
   "outputs": [],
   "source": [
    "def job2(num, q, lock):\n",
    "    lock.acquire()\n",
    "    sum = 0\n",
    "    for i in range(num):\n",
    "        sum += i**10\n",
    "\n",
    "    q.put(sum)\n",
    "    lock.release()"
   ]
  },
  {
   "cell_type": "code",
   "execution_count": 4,
   "metadata": {
    "collapsed": true
   },
   "outputs": [],
   "source": [
    "def main():\n",
    "    lock = threading.Lock()  #命名一個 Lock 物件\n",
    "    q = Queue() # 開一個 Queue 物件\n",
    "    t1 = threading.Thread(target=job1, args=(8,q,lock)) \n",
    "                            #打開一個名字叫 t1 的線程物件\n",
    "                            #這個物件會去呼叫 job1\n",
    "                            #同時t1導入 q 跟 lock 做現成控制\n",
    "                            #為什麼要這樣做...我也不知道XD\n",
    "\n",
    "    t2 = threading.Thread(target=job2, args=(8,q,lock))\n",
    "\n",
    "    t1.start()  #啟動 t1 線程\n",
    "    t2.start()  #啟動 t2 線程\n",
    "    t1.join()  #在 t1線程結束前阻止程式繼續運行\n",
    "    t2.join()  #在 t2線程結束前阻止程式繼續運行\n",
    "\n",
    "#確認Queue是否為空，如果不是就用 q.get() 取出值\n",
    "    while not q.empty():   \n",
    "        print(q.get())"
   ]
  },
  {
   "cell_type": "code",
   "execution_count": 6,
   "metadata": {
    "collapsed": false
   },
   "outputs": [
    {
     "name": "stdout",
     "output_type": "stream",
     "text": [
      "28\n",
      "353815700\n"
     ]
    }
   ],
   "source": [
    "\n",
    "\n",
    "if __name__ == '__main__': main()"
   ]
  },
  {
   "cell_type": "code",
   "execution_count": 8,
   "metadata": {
    "collapsed": true
   },
   "outputs": [],
   "source": [
    "import multiprocessing as mp\n",
    "import threading as td"
   ]
  },
  {
   "cell_type": "code",
   "execution_count": 9,
   "metadata": {
    "collapsed": true
   },
   "outputs": [],
   "source": [
    "def job(q):\n",
    "    result = 0\n",
    "    for i in range(1000):\n",
    "        result = i+i**2+i**3\n",
    "    q.put(result)"
   ]
  },
  {
   "cell_type": "code",
   "execution_count": null,
   "metadata": {
    "collapsed": false
   },
   "outputs": [],
   "source": [
    "q = mp.Queue()\n",
    "p1 = mp.Process(target=job,args=(q,))\n",
    "p2 = mp.Process(target=job,args=(q,))\n",
    "p1.start()\n",
    "p2.start()\n",
    "p1.join()\n",
    "p2.join()\n",
    "res1 = q.get()\n",
    "res2 = q.get()\n",
    "print(res1)\n",
    "print(res2)"
   ]
  },
  {
   "cell_type": "code",
   "execution_count": null,
   "metadata": {
    "collapsed": true
   },
   "outputs": [],
   "source": [
    "def job1(x):\n",
    "    return x*x"
   ]
  },
  {
   "cell_type": "code",
   "execution_count": null,
   "metadata": {
    "collapsed": true
   },
   "outputs": [],
   "source": [
    "def multicore():\n",
    "    pool = mp.Pool()\n",
    "    res = pool.map(job1,range(10))\n",
    "    print(res)"
   ]
  }
 ],
 "metadata": {
  "anaconda-cloud": {},
  "kernelspec": {
   "display_name": "Python [conda root]",
   "language": "python",
   "name": "conda-root-py"
  },
  "language_info": {
   "codemirror_mode": {
    "name": "ipython",
    "version": 3
   },
   "file_extension": ".py",
   "mimetype": "text/x-python",
   "name": "python",
   "nbconvert_exporter": "python",
   "pygments_lexer": "ipython3",
   "version": "3.5.2"
  }
 },
 "nbformat": 4,
 "nbformat_minor": 1
}
