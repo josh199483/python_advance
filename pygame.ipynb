{
 "cells": [
  {
   "cell_type": "code",
   "execution_count": 1,
   "metadata": {
    "collapsed": false
   },
   "outputs": [
    {
     "name": "stdout",
     "output_type": "stream",
     "text": [
      "Collecting pygame\n",
      "  Downloading pygame-1.9.3-cp35-cp35m-win32.whl (4.0MB)\n",
      "Installing collected packages: pygame\n",
      "Successfully installed pygame-1.9.3\n"
     ]
    }
   ],
   "source": [
    "!pip install pygame\n"
   ]
  },
  {
   "cell_type": "code",
   "execution_count": 2,
   "metadata": {
    "collapsed": true
   },
   "outputs": [],
   "source": [
    "#snake game\n",
    "import pygame\n",
    "import sys\n",
    "import random \n",
    "import time"
   ]
  },
  {
   "cell_type": "code",
   "execution_count": 3,
   "metadata": {
    "collapsed": false
   },
   "outputs": [
    {
     "name": "stdout",
     "output_type": "stream",
     "text": [
      "(+)pygame is successfully initialized\n"
     ]
    }
   ],
   "source": [
    "#pygame.init() => 6 is successful messages,0 is means 0 error messages\n",
    "#(6,0)\n",
    "\n",
    "check_errors = pygame.init()\n",
    "if check_errors[1]>0:\n",
    "    print(\"(!) Had {} initializing errors,exiting...\".format(check_errors[1]))\n",
    "    sys.exit(-1)\n",
    "else:\n",
    "    print(\"(+)pygame is successfully initialized\")"
   ]
  },
  {
   "cell_type": "code",
   "execution_count": 4,
   "metadata": {
    "collapsed": false
   },
   "outputs": [],
   "source": [
    "#play surface\n",
    "#set_mode just have one argument\n",
    "playSurface = pygame.display.set_mode((720,460))\n",
    "pygame.display.set_caption(\"snake game!\")\n",
    "time.sleep(5)"
   ]
  }
 ],
 "metadata": {
  "anaconda-cloud": {},
  "kernelspec": {
   "display_name": "Python [conda root]",
   "language": "python",
   "name": "conda-root-py"
  },
  "language_info": {
   "codemirror_mode": {
    "name": "ipython",
    "version": 3
   },
   "file_extension": ".py",
   "mimetype": "text/x-python",
   "name": "python",
   "nbconvert_exporter": "python",
   "pygments_lexer": "ipython3",
   "version": "3.5.2"
  }
 },
 "nbformat": 4,
 "nbformat_minor": 1
}
