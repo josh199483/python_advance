{
 "cells": [
  {
   "cell_type": "markdown",
   "metadata": {},
   "source": [
    "# python使用枚舉enumerate"
   ]
  },
  {
   "cell_type": "code",
   "execution_count": 9,
   "metadata": {
    "collapsed": true
   },
   "outputs": [],
   "source": [
    "from enum import Enum\n",
    "Animal = Enum('Animal', 'ant bee cat dog')\n",
    "#等同於\n",
    "class Animal(Enum):\n",
    "    ant = 1\n",
    "    bee = 2\n",
    "    cat = 3\n",
    "    dog = auto()"
   ]
  },
  {
   "cell_type": "code",
   "execution_count": 17,
   "metadata": {},
   "outputs": [
    {
     "name": "stdout",
     "output_type": "stream",
     "text": [
      "<Animal.ant: 1>\n",
      "[<Animal.ant: 1>, <Animal.bee: 2>, <Animal.cat: 3>, <Animal.dog: 4>]\n",
      "dog\n",
      "Animal.ant\n",
      "Animal.bee\n",
      "Animal.cat\n",
      "Animal.dog\n"
     ]
    }
   ],
   "source": [
    "print(repr(Animal.ant))\n",
    "print(list(Animal))\n",
    "print(Animal(4).name)\n",
    "for ani in Animal:\n",
    "    print(ani)"
   ]
  },
  {
   "cell_type": "markdown",
   "metadata": {},
   "source": [
    "# 合併兩個字典"
   ]
  },
  {
   "cell_type": "code",
   "execution_count": 20,
   "metadata": {},
   "outputs": [
    {
     "name": "stdout",
     "output_type": "stream",
     "text": [
      "None\n",
      "{'a': 1, 'b': 10, 'c': 11}\n",
      "{'a': 1, 'b': 10, 'c': 11}\n",
      "{'a': 1, 'b': 10, 'c': 11}\n"
     ]
    }
   ],
   "source": [
    "x = {'a':1, 'b': 2}\n",
    "y = {'b':10, 'c': 11}\n",
    "z = x.update(y)\n",
    "print(z) #空值\n",
    "print(x)\n",
    "#若想讓合併後的字典直接賦值到z\n",
    "z1 = dict(list(x.items()) + list(y.items()))\n",
    "print(z1)\n",
    "z2 = x.copy()\n",
    "z2.update(y)\n",
    "print(z2)"
   ]
  },
  {
   "cell_type": "markdown",
   "metadata": {},
   "source": [
    "# 用字典的值來排序"
   ]
  },
  {
   "cell_type": "code",
   "execution_count": 25,
   "metadata": {},
   "outputs": [
    {
     "name": "stdout",
     "output_type": "stream",
     "text": [
      "[(5, 0), (4, 1), (1, 2), (3, 3), (2, 4)]\n",
      "[(5, 0), (4, 1), (1, 2), (3, 3), (2, 4)]\n"
     ]
    }
   ],
   "source": [
    "#因字典是無序的，所以一定要轉換成其他資料結構才能排序\n",
    "import operator\n",
    "x = {1: 2, 2: 4, 3:3, 4:1, 5:0}\n",
    "#先轉換成tuple，由值的小到大排序\n",
    "sorted_x = sorted(x.items(), key=operator.itemgetter(1))\n",
    "print(sorted_x)\n",
    "#或使用lambda\n",
    "lambda_sorted_x = sorted(x.items(), key=lambda x: x[1])\n",
    "print(lambda_sorted_x)"
   ]
  },
  {
   "cell_type": "markdown",
   "metadata": {},
   "source": [
    "# multiprocessing"
   ]
  },
  {
   "cell_type": "code",
   "execution_count": null,
   "metadata": {
    "collapsed": true
   },
   "outputs": [],
   "source": [
    "import multiprocessing \n",
    "def task(pid):\n",
    "    result = pid + 1\n",
    "    # do something\n",
    "    return result\n",
    "    \n",
    "if __name__=='__main__':\n",
    "    multiprocessing.freeze_support()\n",
    "    pool = multiprocessing.Pool()\n",
    "    cpus = multiprocessing.cpu_count()\n",
    "    results = []\n",
    "    for i in range(0, cpus):\n",
    "        result = pool.apply_async(task, args=(i,))\n",
    "        results.append(result)\n",
    "    pool.close()\n",
    "    pool.join()\n",
    "    for result in results:\n",
    "        print(result.get())"
   ]
  }
 ],
 "metadata": {
  "kernelspec": {
   "display_name": "Python 3",
   "language": "python",
   "name": "python3"
  },
  "language_info": {
   "codemirror_mode": {
    "name": "ipython",
    "version": 3
   },
   "file_extension": ".py",
   "mimetype": "text/x-python",
   "name": "python",
   "nbconvert_exporter": "python",
   "pygments_lexer": "ipython3",
   "version": "3.6.1"
  }
 },
 "nbformat": 4,
 "nbformat_minor": 2
}
